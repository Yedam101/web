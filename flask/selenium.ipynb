{
 "cells": [
  {
   "cell_type": "code",
   "execution_count": 26,
   "metadata": {},
   "outputs": [],
   "source": [
    "from selenium import webdriver\n",
    "from selenium.webdriver.common.by import By\n",
    "from selenium.webdriver.support.wait import WebDriverWait\n",
    "from selenium.webdriver.common.keys import Keys\n",
    "from selenium.webdriver.common.action_chains import ActionChains\n",
    "import time\n"
   ]
  },
  {
   "cell_type": "code",
   "execution_count": 29,
   "metadata": {},
   "outputs": [
    {
     "name": "stderr",
     "output_type": "stream",
     "text": [
      "C:\\Users\\Yedam\\AppData\\Local\\Temp\\ipykernel_7264\\2398337153.py:1: DeprecationWarning: executable_path has been deprecated, please pass in a Service object\n",
      "  driver = webdriver.Chrome(\"C:/chromedriver/chromedriver.exe\")\n"
     ]
    }
   ],
   "source": [
    "driver = webdriver.Chrome(\"C:/chromedriver/chromedriver.exe\")\n",
    "search_term = \"Python\"\n",
    "page = 1\n",
    "url = f\"https://career.programmers.co.kr/job?page={page}&tags={search_term}&order=recent\"\n",
    "driver.get(url)\n",
    "time.sleep(1)\n",
    "\n",
    "html = driver.page_source"
   ]
  },
  {
   "cell_type": "code",
   "execution_count": 57,
   "metadata": {},
   "outputs": [
    {
     "name": "stdout",
     "output_type": "stream",
     "text": [
      "{'[패스오더] 백엔드 개발자 (Spring, Python, MSA)': 'https://career.programmers.co.kr//job_positions/7304', '(임베디드) 소프트웨어 & AI 컴파일러 엔지니어': 'https://career.programmers.co.kr//job_positions/11389', 'ML Engineer/Researcher': 'https://career.programmers.co.kr//job_positions/11388', '메이크잇(Letsmakeit) 금융핀테크 기업 블록체인 전문가(NFT 투자 플랫폼 개발)': 'https://career.programmers.co.kr//job_positions/12560', '메이크잇(Letsmakeit) 금융핀테크 기업 서버/백엔드 개발자': 'https://career.programmers.co.kr//job_positions/12558', '메이크잇(Letsmakeit) 금융핀테크 기업 빅데이터 전문가': 'https://career.programmers.co.kr//job_positions/12562', 'Dev Lead': 'https://career.programmers.co.kr//job_positions/10432', 'AI Deep Learning Engineer 딥러닝 엔지니어 (전문연구요원 가능)': 'https://career.programmers.co.kr//job_positions/14596', '[DevOps팀] Middle DevOps Engineer': 'https://career.programmers.co.kr//job_positions/14293', 'DevOps 엔지니어, 데브옵스 엔지니어': 'https://career.programmers.co.kr//job_positions/14593', 'DBA, 데이터베이스 관리자': 'https://career.programmers.co.kr//job_positions/14588', '클링(Kling) 백엔드 개발자, 서버 개발자': 'https://career.programmers.co.kr//job_positions/14582', '데이터 사이언티스트': 'https://career.programmers.co.kr//job_positions/7096', '머신러닝 엔지니어': 'https://career.programmers.co.kr//job_positions/14575', 'Back-end Engineer': 'https://career.programmers.co.kr//job_positions/14576', '데이터 분석가': 'https://career.programmers.co.kr//job_positions/4398', '웹 풀스택 개발자 (Python/React.js)': 'https://career.programmers.co.kr//job_positions/13356', '웹 백엔드 개발자 (Python)': 'https://career.programmers.co.kr//job_positions/13357', '백엔드 엔지니어': 'https://career.programmers.co.kr//job_positions/10826'}\n"
     ]
    }
   ],
   "source": [
    "from bs4 import BeautifulSoup\n",
    "\n",
    "soup = BeautifulSoup(html, \"html.parser\")\n",
    "joblist = soup.find_all('a', class_=\"position-link\")\n",
    "\n",
    "jobdict = {}\n",
    "\n",
    "for joblink in joblist:\n",
    "    link = 'https://career.programmers.co.kr/' + joblink[\"href\"]\n",
    "    text = joblink.text.replace('\\n', '').strip()\n",
    "    jobdict[text] = link\n",
    "\n",
    "print(jobdict)\n"
   ]
  },
  {
   "cell_type": "code",
   "execution_count": null,
   "metadata": {},
   "outputs": [
    {
     "name": "stdout",
     "output_type": "stream",
     "text": [
      "0\n"
     ]
    }
   ],
   "source": [
    "\n",
    "    \n"
   ]
  },
  {
   "cell_type": "code",
   "execution_count": null,
   "metadata": {},
   "outputs": [],
   "source": []
  }
 ],
 "metadata": {
  "kernelspec": {
   "display_name": "Python 3.10.5 64-bit",
   "language": "python",
   "name": "python3"
  },
  "language_info": {
   "codemirror_mode": {
    "name": "ipython",
    "version": 3
   },
   "file_extension": ".py",
   "mimetype": "text/x-python",
   "name": "python",
   "nbconvert_exporter": "python",
   "pygments_lexer": "ipython3",
   "version": "3.10.5"
  },
  "orig_nbformat": 4,
  "vscode": {
   "interpreter": {
    "hash": "26de051ba29f2982a8de78e945f0abaf191376122a1563185a90213a26c5da77"
   }
  }
 },
 "nbformat": 4,
 "nbformat_minor": 2
}
