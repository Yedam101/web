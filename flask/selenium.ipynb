{
 "cells": [
  {
   "cell_type": "code",
   "execution_count": 103,
   "metadata": {},
   "outputs": [],
   "source": [
    "from selenium import webdriver\n",
    "from selenium.webdriver.common.by import By\n",
    "from selenium.webdriver.support.wait import WebDriverWait\n",
    "from selenium.webdriver.common.keys import Keys\n",
    "from selenium.webdriver.common.action_chains import ActionChains\n",
    "import time\n",
    "\n",
    "from bs4 import BeautifulSoup\n",
    "from collections import defaultdict\n"
   ]
  },
  {
   "cell_type": "code",
   "execution_count": 104,
   "metadata": {},
   "outputs": [],
   "source": [
    "# driver = webdriver.Chrome(\"C:/chromedriver/chromedriver.exe\")\n",
    "# search_term = \"Python\"\n",
    "# page = 1\n",
    "# url = f\"https://career.programmers.co.kr/job?page={page}&tags={search_term}&min_career=0&order=recent\"\n",
    "# driver.get(url)\n",
    "# time.sleep(1)\n",
    "\n",
    "# html = driver.page_source"
   ]
  },
  {
   "cell_type": "code",
   "execution_count": 119,
   "metadata": {},
   "outputs": [],
   "source": [
    "jobdict = defaultdict(list)\n",
    "\n",
    "def extract_jobs(page, keyword):\n",
    "    driver = webdriver.Chrome(\"C:/chromedriver/chromedriver.exe\")\n",
    "    url = f\"https://career.programmers.co.kr/job?page={page}&tags={keyword}&min_career=0&order=recent\"\n",
    "    driver.get(url)\n",
    "    time.sleep(1)\n",
    "\n",
    "    html = driver.page_source\n",
    "\n",
    "    soup = BeautifulSoup(html, \"html.parser\")\n",
    "    joblist = soup.find_all('a', class_=\"position-link\")\n",
    "    namelist = soup.find_all('a', class_=\"company-link\")\n",
    "\n",
    "    cname, clink, ctext = [], [], []\n",
    "\n",
    "    for name in namelist[1::2]:\n",
    "        com = name.text.replace('\\n', '').strip()\n",
    "        cname.append(com)\n",
    "\n",
    "    for joblink in joblist:\n",
    "        link = 'https://career.programmers.co.kr' + joblink[\"href\"]\n",
    "        text = joblink.text.replace('\\n', '').strip()\n",
    "        clink.append(link)\n",
    "        ctext.append(text)\n",
    "\n",
    "    for i in range(20):\n",
    "        jobdict['Company'].append(cname[i])\n",
    "        jobdict['Position'].append(ctext[i])\n",
    "        jobdict['URL'].append(clink[i])\n",
    "    return jobdict"
   ]
  },
  {
   "cell_type": "code",
   "execution_count": 120,
   "metadata": {},
   "outputs": [
    {
     "name": "stderr",
     "output_type": "stream",
     "text": [
      "C:\\Users\\Yedam\\AppData\\Local\\Temp\\ipykernel_7264\\4278714000.py:4: DeprecationWarning: executable_path has been deprecated, please pass in a Service object\n",
      "  driver = webdriver.Chrome(\"C:/chromedriver/chromedriver.exe\")\n"
     ]
    }
   ],
   "source": [
    "keyword = input(\"What do you wat to search for? \")\n",
    "for i in range(1, 3):\n",
    "    extract_jobs(i, keyword)\n"
   ]
  },
  {
   "cell_type": "code",
   "execution_count": 129,
   "metadata": {},
   "outputs": [
    {
     "name": "stdout",
     "output_type": "stream",
     "text": [
      "40\n",
      "40\n",
      "40\n",
      "에너자이\n"
     ]
    }
   ],
   "source": [
    "print(len(jobdict['Company']))\n",
    "print(len(jobdict['Position']))\n",
    "print(len(jobdict['URL']))\n",
    "print(jobdict['Company'][0])"
   ]
  },
  {
   "cell_type": "code",
   "execution_count": 118,
   "metadata": {},
   "outputs": [],
   "source": [
    "keyword = input(\"What do you wat to search for? \")\n",
    "file = open(f\"{keyword}.csv\", 'w')\n",
    "\n",
    "file.write(\"Company, Position, URL\\n\")\n",
    "\n",
    "for i in range(len(jobdict['URL'])):\n",
    "    file.write(f\"{jobdict['Company'][i]}, {jobdict['Position'][i]}, {jobdict['URL'][i]}\")"
   ]
  },
  {
   "cell_type": "code",
   "execution_count": null,
   "metadata": {},
   "outputs": [],
   "source": []
  },
  {
   "cell_type": "code",
   "execution_count": null,
   "metadata": {},
   "outputs": [],
   "source": []
  },
  {
   "cell_type": "code",
   "execution_count": null,
   "metadata": {},
   "outputs": [],
   "source": []
  },
  {
   "cell_type": "code",
   "execution_count": null,
   "metadata": {},
   "outputs": [],
   "source": []
  }
 ],
 "metadata": {
  "kernelspec": {
   "display_name": "Python 3.10.5 64-bit",
   "language": "python",
   "name": "python3"
  },
  "language_info": {
   "codemirror_mode": {
    "name": "ipython",
    "version": 3
   },
   "file_extension": ".py",
   "mimetype": "text/x-python",
   "name": "python",
   "nbconvert_exporter": "python",
   "pygments_lexer": "ipython3",
   "version": "3.10.5"
  },
  "orig_nbformat": 4,
  "vscode": {
   "interpreter": {
    "hash": "26de051ba29f2982a8de78e945f0abaf191376122a1563185a90213a26c5da77"
   }
  }
 },
 "nbformat": 4,
 "nbformat_minor": 2
}
