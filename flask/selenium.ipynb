{
 "cells": [
  {
   "cell_type": "code",
   "execution_count": 1,
   "metadata": {},
   "outputs": [],
   "source": [
    "from selenium import webdriver\n",
    "from selenium.webdriver.common.by import By\n",
    "from selenium.webdriver.support.wait import WebDriverWait\n",
    "from selenium.webdriver.common.keys import Keys\n",
    "from selenium.webdriver.common.action_chains import ActionChains\n",
    "import time\n",
    "\n",
    "from bs4 import BeautifulSoup\n",
    "from collections import defaultdict\n",
    "import csv\n"
   ]
  },
  {
   "cell_type": "code",
   "execution_count": 2,
   "metadata": {},
   "outputs": [],
   "source": [
    "# driver = webdriver.Chrome(\"C:/chromedriver/chromedriver.exe\")\n",
    "# search_term = \"Python\"\n",
    "# page = 1\n",
    "# url = f\"https://career.programmers.co.kr/job?page={page}&tags={search_term}&min_career=0&order=recent\"\n",
    "# driver.get(url)\n",
    "# time.sleep(1)\n",
    "\n",
    "# html = driver.page_source"
   ]
  },
  {
   "cell_type": "code",
   "execution_count": 2,
   "metadata": {},
   "outputs": [],
   "source": [
    "jobdict = defaultdict(list)\n",
    "\n",
    "def extract_jobs(page, keyword):\n",
    "    driver = webdriver.Chrome(\"C:/chromedriver/chromedriver.exe\")\n",
    "    url = f\"https://career.programmers.co.kr/job?page={page}&tags={keyword}&min_career=0&order=recent\"\n",
    "    driver.get(url)\n",
    "    time.sleep(1)\n",
    "\n",
    "    html = driver.page_source\n",
    "\n",
    "    soup = BeautifulSoup(html, \"html.parser\")\n",
    "    joblist = soup.find_all('a', class_=\"position-link\")\n",
    "    namelist = soup.find_all('a', class_=\"company-link\")\n",
    "\n",
    "    cname, clink, ctext = [], [], []\n",
    "\n",
    "    for name in namelist[1::2]:\n",
    "        com = name.text.replace('\\n', '').strip()\n",
    "        cname.append(com)\n",
    "\n",
    "    for joblink in joblist:\n",
    "        link = 'https://career.programmers.co.kr' + joblink[\"href\"]\n",
    "        text = joblink.text.replace('\\n', '').strip()\n",
    "        clink.append(link)\n",
    "        ctext.append(text)\n",
    "\n",
    "    for i in range(20):\n",
    "        jobdict['Company'].append(cname[i])\n",
    "        jobdict['Position'].append(ctext[i])\n",
    "        jobdict['URL'].append(clink[i])\n",
    "        \n",
    "    return jobdict"
   ]
  },
  {
   "cell_type": "code",
   "execution_count": null,
   "metadata": {},
   "outputs": [],
   "source": [
    "# keyword = input(\"What do you wat to search for? \")\n",
    "\n",
    "# for i in range(1, 3):\n",
    "#     extract_jobs(i, keyword)\n",
    "\n",
    "\n",
    "# file = open(f\"{keyword}.csv\", 'w')\n",
    "\n",
    "# file.write(\"Company, Position, URL\\n\")\n",
    "\n",
    "# for i in range(len(jobdict['URL'])):\n",
    "#     print(f\"{jobdict['Company'][i]}, {jobdict['Position'][i]}, {jobdict['URL'][i]}\\n\")\n",
    "#     file.write(f\"{jobdict['Company'][i]}, {jobdict['Position'][i]}, {jobdict['URL'][i]}\\n\")\n",
    "\n",
    "# file.close"
   ]
  },
  {
   "cell_type": "code",
   "execution_count": null,
   "metadata": {},
   "outputs": [],
   "source": [
    "keyword = input(\"What do you wat to search for? \")\n",
    "\n",
    "for i in range(1, 8):\n",
    "    extract_jobs(i, keyword)\n",
    "\n",
    "item = [\"Company\", \"Position\", \"URL\"]\n",
    "\n",
    "with open(f'{keyword}_list.csv', 'w', encoding='utf-8', newline='') as f:\n",
    "    writer = csv.writer(f)\n",
    "    writer.writerow(item)\n",
    "\n",
    "    for i in range(len(jobdict['URL'])):\n",
    "        val = []\n",
    "        val.append(jobdict['Company'][i])\n",
    "        val.append(jobdict['Position'][i])\n",
    "        val.append(jobdict['URL'][i])\n",
    "        print(val)\n",
    "        writer.writerow(val)\n"
   ]
  },
  {
   "cell_type": "code",
   "execution_count": null,
   "metadata": {},
   "outputs": [],
   "source": []
  },
  {
   "cell_type": "code",
   "execution_count": null,
   "metadata": {},
   "outputs": [],
   "source": []
  },
  {
   "cell_type": "code",
   "execution_count": null,
   "metadata": {},
   "outputs": [],
   "source": []
  }
 ],
 "metadata": {
  "kernelspec": {
   "display_name": "Python 3.10.5 64-bit",
   "language": "python",
   "name": "python3"
  },
  "language_info": {
   "codemirror_mode": {
    "name": "ipython",
    "version": 3
   },
   "file_extension": ".py",
   "mimetype": "text/x-python",
   "name": "python",
   "nbconvert_exporter": "python",
   "pygments_lexer": "ipython3",
   "version": "3.10.5"
  },
  "orig_nbformat": 4,
  "vscode": {
   "interpreter": {
    "hash": "26de051ba29f2982a8de78e945f0abaf191376122a1563185a90213a26c5da77"
   }
  }
 },
 "nbformat": 4,
 "nbformat_minor": 2
}
